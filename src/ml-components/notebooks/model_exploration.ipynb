{
 "cells": [
  {
   "cell_type": "markdown",
   "metadata": {},
   "source": [
    "# Exploración de Modelos de Aprendizaje Automático con TensorFlow\n",
    "\n",
    "Este notebook está diseñado para explorar modelos de aprendizaje automático utilizando TensorFlow y realizar análisis iniciales. "
   ]
  },
  {
   "cell_type": "code",
   "execution_count": null,
   "metadata": {},
   "outputs": [],
   "source": [
    "import tensorflow as tf\n",
    "import numpy as np\n",
    "import matplotlib.pyplot as plt\n",
    "import seaborn as sns\n",
    "import logging\n",
    "\n",
    "# Configuración básica de logging\n",
    "logging.basicConfig(level=logging.INFO, format='%(asctime)s - %(levelname)s - %(message)s')"
   ]
  },
  {
   "cell_type": "code",
   "execution_count": null,
   "metadata": {},
   "outputs": [],
   "source": [
    "# Cargar un modelo pre-entrenado (ejemplo)\n",
    "model_path = '../models/my_trained_model'\n",
    "\n",
    "try:\n",
    "    model = tf.keras.models.load_model(model_path)\n",
    "    logging.info(f\"Modelo cargado correctamente desde {model_path}\")\n",
    "except Exception as e:\n",
    "    logging.error(f\"Error al cargar el modelo desde {model_path}: {e}\")\n",
    "    model = None"
   ]
  },
   {
   "cell_type": "code",
   "execution_count": null,
   "metadata": {},
   "outputs": [],
   "source": [
    "if model is not None:\n",
    "    # Imprimir un resumen del modelo\n",
    "    model.summary()\n",
    "\n",
    "    # Obtener la arquitectura del modelo\n",
    "    print(\"\\nArquitectura del modelo:\")\n",
    "    for layer in model.layers:\n",
    "        print(f\"  - {layer.name} ({layer.__class__.__name__})\")\n",
    "        if hasattr(layer, 'units'):\n",
    "            print(f\"    - Units: {layer.units}\")\n",
    "        if hasattr(layer, 'activation'):\n",
    "          print(f\"    - Activation: {layer.activation}\")\n"
   ]
  },
  {
   "cell_type": "code",
   "execution_count": null,
   "metadata": {},
   "outputs": [],
   "source": [
     "if model is not None:\n",
     " # Visualizar las capas del modelo\n",
     " tf.keras.utils.plot_model(model, to_file='model_plot.png', show_shapes=True, show_layer_names=True)\n",
     " print(\"\\nImagen de la arquitectura del modelo guardada en 'model_plot.png'\")\n",
     " # Puedes visualizar la imagen en el explorador de archivos"
   ]
  },
  {
   "cell_type": "code",
   "execution_count": null,
   "metadata": {},
   "outputs": [],
   "source": [
    "if model is not None:\n",
    "  # Crear datos de prueba aleatorios para demostración\n",
    "  input_shape = model.input_shape[1:]  # Ignorar el tamaño del batch\n",
    "  if None in input_shape:\n",
    "    print(\"No se puede crear datos de prueba automáticamente, revisa el input shape del modelo\")\n",
    "  else:\n",
    "    test_input = np.random.rand(1, *input_shape)\n",
    "\n",
    "    try:\n",
    "      # Realizar una inferencia con los datos de prueba\n",
    "      predictions = model.predict(test_input)\n",
    "      print(\"\\nPredicciones con datos de prueba:\")\n",
    "      print(predictions)\n",
    "    except Exception as e:\n",
    "        print(f\"Error al realizar la predicción con datos de prueba: {e}\")\n",
    "\n",
    "    try:\n",
    "        # Visualizar la salida del modelo para algunas capas\n",
    "        layer_outputs = [layer.output for layer in model.layers[:4]]\n",
    "        activation_model = tf.keras.models.Model(inputs=model.input, outputs=layer_outputs)\n",
    "        activations = activation_model.predict(test_input)\n",
    "\n",
    "        for i, activation in enumerate(activations):\n",
    "            print(f\"\\nSalida de la capa {model.layers[i].name}:\")\n",
    "            if activation.ndim == 4:\n",
    "                num_filters = activation.shape[-1]\n",
    "                # Visualizar un filtro de las primeras 8 capas\n",
    "                plt.figure(figsize=(10, 10))\n",
    "                for j in range(min(num_filters,8)):\n",
    "                  plt.subplot(4, 4, j + 1)\n",
    "                  plt.imshow(activation[0, :, :, j], cmap='viridis')\n",
    "                  plt.axis('off')\n",
    "                plt.suptitle(f'Activaciones de la capa {model.layers[i].name}')\n",
    "                plt.show()\n",
    "            elif activation.ndim == 2:\n",
    "               print(activation)\n",
    "            else:\n",
    "              print(\"No se puede visualizar la salida de esta capa\")\n",
    "    except Exception as e:\n",
    "        print(f\"Error al visualizar la salida de las capas: {e}\")"
   ]
  }
 ],
 "metadata": {
  "kernelspec": {
   "display_name": "Python 3",
   "language": "python",
   "name": "python3"
  },
  "language_info": {
   "codemirror_mode": {
    "name": "ipython",
    "version": 3
   },
   "file_extension": ".py",
   "mimetype": "text/x-python",
   "name": "python",
   "nbconvert_exporter": "python",
   "pygments_lexer": "ipython3",
   "version": "3.10.9"
  }
 },
 "nbformat": 4,
 "nbformat_minor": 5
}
