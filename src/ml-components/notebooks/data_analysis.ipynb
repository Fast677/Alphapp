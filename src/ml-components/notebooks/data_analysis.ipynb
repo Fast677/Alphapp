{
 "cells": [
  {
   "cell_type": "markdown",
   "metadata": {},
   "source": [
    "# Análisis de Datos con Pandas\n",
    "\n",
    "Este notebook está diseñado para realizar un análisis exploratorio de datos utilizando la biblioteca Pandas. "
   ]
  },
  {
   "cell_type": "code",
   "execution_count": null,
   "metadata": {},
   "outputs": [],
   "source": [
    "import pandas as pd\n",
    "import matplotlib.pyplot as plt\n",
    "import seaborn as sns\n",
    "import logging\n",
     "\n",
    "# Configuración básica de logging\n",
    "logging.basicConfig(level=logging.INFO, format='%(asctime)s - %(levelname)s - %(message)s')"
   ]
  },
  {
   "cell_type": "code",
   "execution_count": null,
   "metadata": {},
   "outputs": [],
   "source": [
    "# Cargar el conjunto de datos\n",
    "file_path = '../data/employees.csv'  # Asegúrate de que la ruta sea correcta\n",
    "\n",
    "try:\n",
    "    df = pd.read_csv(file_path)\n",
    "    logging.info(f\"Datos cargados correctamente desde {file_path}\")\n",
    "except FileNotFoundError:\n",
    "    logging.error(f\"Error: No se encontró el archivo en la ruta: {file_path}\")\n",
    "    df = None"
   ]
  },
  {
   "cell_type": "code",
   "execution_count": null,
   "metadata": {},
   "outputs": [],
   "source": [
    "if df is not None:\n",
    "  # Mostrar las primeras filas del conjunto de datos\n",
    "  print(\"Primeras filas del conjunto de datos:\")\n",
    "  print(df.head())\n",
    "\n",
    "  # Obtener información básica sobre el conjunto de datos\n",
    "  print(\"\\nInformación básica sobre el conjunto de datos:\")\n",
    "  print(df.info())\n",
    "\n",
    "  # Obtener estadísticas descriptivas para las columnas numéricas\n",
    "  print(\"\\nEstadísticas descriptivas para las columnas numéricas:\")\n",
    "  print(df.describe())\n",
    "\n",
     "  # Visualización de datos\n",
     "  sns.pairplot(df)\n",
     "  plt.show()\n",
     "\n",
     "  # Histograma de edades\n",
     "  plt.figure(figsize=(8, 6))\n",
     "  sns.histplot(df['Age'], bins=10, kde=True)\n",
     "  plt.title('Distribución de Edades')\n",
     "  plt.xlabel('Edad')\n",
     "  plt.ylabel('Frecuencia')\n",
     "  plt.show()\n",
     "\n",
      "# Diagrama de caja de salarios por departamento\n",
    "  plt.figure(figsize=(10, 6))\n",
    "  sns.boxplot(x='Department', y='Salary', data=df)\n",
    "  plt.title('Distribución de Salarios por Departamento')\n",
    "  plt.xlabel('Departamento')\n",
    "  plt.ylabel('Salario')\n",
    "  plt.xticks(rotation=45)\n",
    "  plt.show()"
   ]
  },
  {
   "cell_type": "code",
   "execution_count": null,
   "metadata": {},
   "outputs": [],
   "source": [
    "if df is not None:\n",
    "    # Calcular el salario promedio\n",
    "    average_salary = df['Salary'].mean()\n",
    "    print(f\"\\nSalario promedio: {average_salary}\")\n",
    "\n",
    "    # Encontrar el departamento con el salario promedio más alto\n",
    "    highest_avg_salary_dept = df.groupby('Department')['Salary'].mean().idxmax()\n",
    "    print(f\"\\nDepartamento con el salario promedio más alto: {highest_avg_salary_dept}\")\n",
    "\n",
    "    # Contar el número de empleados en cada departamento\n",
    "    employees_per_dept = df['Department'].value_counts()\n",
    "    print(\"\\nNúmero de empleados en cada departamento:\")\n",
    "    print(employees_per_dept)\n",
    "\n",
    "    # Encontrar el empleado más antiguo\n",
    "    oldest_employee = df.loc[df['Age'].idxmax()]\n",
    "    print(\"\\nEmpleado más antiguo:\")\n",
    "    print(oldest_employee)\n",
    "\n",
     "    # Guardar los resultados del análisis en un nuevo archivo CSV\n",
    "    analysis_results = {\n",
    "        \"Salario Promedio\": [average_salary],\n",
    "        \"Departamento con Salario Promedio Más Alto\": [highest_avg_salary_dept],\n",
    "        \"Empleados por Departamento\": [employees_per_dept.to_dict()],\n",
    "        \"Empleado Más Antiguo\": [oldest_employee.to_dict()]\n",
    "    }\n",
    "    analysis_df = pd.DataFrame(analysis_results)\n",
    "    analysis_df.to_csv('../data/analysis_results.csv', index=False)\n",
    "    print(\"\\nLos resultados del análisis se han guardado en '../data/analysis_results.csv'.\")"
   ]
  }
 ],
 "metadata": {
  "kernelspec": {
   "display_name": "Python 3",
   "language": "python",
   "name": "python3"
  },
  "language_info": {
   "codemirror_mode": {
    "name": "ipython",
    "version": 3
   },
   "file_extension": ".py",
   "mimetype": "text/x-python",
   "name": "python",
   "nbconvert_exporter": "python",
   "pygments_lexer": "ipython3",
   "version": "3.10.9"
  }
 },
 "nbformat": 4,
 "nbformat_minor": 5
